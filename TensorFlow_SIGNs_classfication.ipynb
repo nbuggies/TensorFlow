{
  "cells": [
    {
      "cell_type": "markdown",
      "metadata": {
        "id": "view-in-github",
        "colab_type": "text"
      },
      "source": [
        "<a href=\"https://colab.research.google.com/github/nbuggies/TensorFlow/blob/main/TensorFlow_SIGNs_classfication.ipynb\" target=\"_parent\"><img src=\"https://colab.research.google.com/assets/colab-badge.svg\" alt=\"Open In Colab\"/></a>"
      ]
    },
    {
      "cell_type": "markdown",
      "metadata": {
        "id": "PSa_cJc70dE2"
      },
      "source": [
        "## 1 - Import packages\n"
      ]
    },
    {
      "cell_type": "markdown",
      "source": [
        "**Exercise**: Please mount your Google drive, and set up your working folder here."
      ],
      "metadata": {
        "id": "7LOcocGU7uXT"
      }
    },
    {
      "cell_type": "code",
      "source": [
        "from google.colab import drive\n",
        "drive.mount('/content/drive')"
      ],
      "metadata": {
        "id": "eigGbuWu0dnn",
        "colab": {
          "base_uri": "https://localhost:8080/"
        },
        "outputId": "237cc181-31a8-4fb5-ba2f-fb35c391407a"
      },
      "execution_count": null,
      "outputs": [
        {
          "output_type": "stream",
          "name": "stdout",
          "text": [
            "Drive already mounted at /content/drive; to attempt to forcibly remount, call drive.mount(\"/content/drive\", force_remount=True).\n"
          ]
        }
      ]
    },
    {
      "cell_type": "code",
      "source": [
        "import os\n",
        "# start your code here\n",
        "os.chdir(\"/content/drive/MyDrive/Homework6\") # change your working folder here\n",
        "\n",
        "# end your code here"
      ],
      "metadata": {
        "id": "YFoWWXsX0fwx"
      },
      "execution_count": null,
      "outputs": []
    },
    {
      "cell_type": "code",
      "execution_count": null,
      "metadata": {
        "id": "rhZ0RUw8T111",
        "jupyter": {
          "outputs_hidden": true
        }
      },
      "outputs": [],
      "source": [
        "import math\n",
        "import numpy as np\n",
        "import h5py\n",
        "import matplotlib.pyplot as plt\n",
        "import tensorflow as tf\n",
        "from tensorflow.python.framework import ops\n",
        "from tf_utils import load_dataset, random_mini_batches, convert_to_one_hot, predict\n",
        "\n",
        "%matplotlib inline\n",
        "np.random.seed(123)\n",
        "tf.random.set_seed(123)"
      ]
    },
    {
      "cell_type": "markdown",
      "metadata": {
        "id": "LW8S6sVzT12h"
      },
      "source": [
        "\n",
        "\n",
        "# 2 - Problem statement: SIGNS Dataset\n",
        "\n",
        "One afternoon, with some friends we decided to teach our computers to decipher sign language. We spent a few hours taking pictures in front of a white wall and came up with the following dataset. It's now your job to build an algorithm that would facilitate communications from a speech-impaired person to someone who doesn't understand sign language.\n",
        "\n",
        "- **Training set**: 1080 pictures (64 by 64 pixels) of signs representing numbers from 0 to 5 (180 pictures per number).\n",
        "- **Test set**: 120 pictures (64 by 64 pixels) of signs representing numbers from 0 to 5 (20 pictures per number).\n",
        "\n",
        "Note that this is a subset of the SIGNS dataset. The complete dataset contains many more signs.\n",
        "\n",
        "Here are examples for each number, and how an explanation of how we represent the labels. These are the original pictures, before we lowered the image resolutoion to 64 by 64 pixels.\n",
        "<figure>\n",
        "<center>\n",
        "<img src='https://drive.google.com/uc?id=1Nuox7mBJMGQt_QXZxmYGkXFEO5mjPf-B' />\n",
        "<figcaption>Image Caption</figcaption></center>\n",
        "</figure>\n",
        "\n",
        "\n",
        "Run the following code to load the dataset."
      ]
    },
    {
      "cell_type": "code",
      "execution_count": null,
      "metadata": {
        "id": "wCgjv84yT12i",
        "jupyter": {
          "outputs_hidden": true
        }
      },
      "outputs": [],
      "source": [
        "# Loading the dataset\n",
        "X_train_orig, Y_train_orig, X_test_orig, Y_test_orig, classes = load_dataset()"
      ]
    },
    {
      "cell_type": "markdown",
      "metadata": {
        "id": "JYimgnMbT12k"
      },
      "source": [
        "Change the index below and run the cell to visualize some examples in the dataset."
      ]
    },
    {
      "cell_type": "code",
      "execution_count": null,
      "metadata": {
        "id": "wG0QwVtJT12k",
        "jupyter": {
          "outputs_hidden": true
        },
        "colab": {
          "base_uri": "https://localhost:8080/",
          "height": 285
        },
        "outputId": "39ae3190-f3a3-4766-d157-93174265b6a6"
      },
      "outputs": [
        {
          "output_type": "stream",
          "name": "stdout",
          "text": [
            "y = 0\n"
          ]
        },
        {
          "output_type": "display_data",
          "data": {
            "image/png": "[encoded data removed]",
            "text/plain": [
              "<Figure size 432x288 with 1 Axes>"
            ]
          },
          "metadata": {
            "needs_background": "light"
          }
        }
      ],
      "source": [
        "# Example of a picture\n",
        "index = 1\n",
        "plt.imshow(X_train_orig[index])\n",
        "print (\"y = \" + str(np.squeeze(Y_train_orig[:, index])))"
      ]
    },
    {
      "cell_type": "markdown",
      "source": [
        "# 3. Using One Hot encodings\n",
        "\n",
        "Many times in deep learning you will have a y vector with numbers ranging from 0 to C-1, where C is the number of classes. If C is for example 4, then you might have the following y vector which you will need to convert as follows:\n",
        "<figure>\n",
        "<center>\n",
        "<img src='https://drive.google.com/uc?id=1P02l9Fu2flQp0gsRl2bTAm0bsZ2cIMWI' />\n",
        "<figcaption>\n",
        "</figure>\n",
        "\n",
        "\n",
        "\n",
        "This is called a \"one hot\" encoding, because in the converted representation exactly one element of each column is \"hot\" (meaning set to 1). In tensorflow, we can tranform the labels of samples to one hot vectors by calling\n",
        "\n",
        "```\n",
        "tf.keras.utils.to_categorical(y)\n",
        "```\n",
        "Please transform the lables (or the output of the dataset) to one hot vectors.\n",
        " "
      ],
      "metadata": {
        "id": "jFRGPKSm812f"
      }
    },
    {
      "cell_type": "markdown",
      "metadata": {
        "id": "2WP4-S2CT12m"
      },
      "source": [
        "As usual you flatten the image dataset, then normalize it by dividing by 255. On top of that, you will convert each label to a one-hot vector . Run the cell below to do so."
      ]
    },
    {
      "cell_type": "code",
      "execution_count": null,
      "metadata": {
        "id": "tn3gF5xLT12m",
        "jupyter": {
          "outputs_hidden": true
        },
        "colab": {
          "base_uri": "https://localhost:8080/"
        },
        "outputId": "3564c3b0-c4e5-4de8-fe60-0a4d7b895fc1"
      },
      "outputs": [
        {
          "output_type": "stream",
          "name": "stdout",
          "text": [
            "number of training examples = 12288\n",
            "number of test examples = 12288\n",
            "X_train shape: (1080, 12288)\n",
            "Y_train shape: (1080, 6)\n",
            "X_test shape: (120, 12288)\n",
            "Y_test shape: (120, 6)\n"
          ]
        }
      ],
      "source": [
        "# Flatten the training and test images\n",
        "X_train_flatten = X_train_orig.reshape(X_train_orig.shape[0], -1)\n",
        "X_test_flatten = X_test_orig.reshape(X_test_orig.shape[0], -1)\n",
        "# Normalize image vectors\n",
        "X_train = X_train_flatten/255.\n",
        "X_test = X_test_flatten/255.\n",
        "# Flatten the training and test labels\n",
        "Y_train_flatten=Y_train_orig.flatten()\n",
        "Y_test_flatten=Y_test_orig.flatten()\n",
        "\n",
        "# Convert training labels (Y_train_flatten) and test labels (Y_test_flatten) to one hot matrices\\\n",
        "### START CODE HERE ###'\n",
        "Y_train = tf.keras.utils.to_categorical(Y_train_flatten)\n",
        "Y_test = tf.keras.utils.to_categorical(Y_test_flatten)\n",
        "### END CODE HERE ###\n",
        "\n",
        "print (\"number of training examples = \" + str(X_train.shape[1]))\n",
        "print (\"number of test examples = \" + str(X_test.shape[1]))\n",
        "print (\"X_train shape: \" + str(X_train.shape))\n",
        "print (\"Y_train shape: \" + str(Y_train.shape))\n",
        "print (\"X_test shape: \" + str(X_test.shape))\n",
        "print (\"Y_test shape: \" + str(Y_test.shape))"
      ]
    },
    {
      "cell_type": "markdown",
      "metadata": {
        "id": "iN_KPZ0FT12o"
      },
      "source": [
        "**Note** that 12288 comes from $64 \\times 64 \\times 3$. Each image is square, 64 by 64 pixels, and 3 is for the RGB colors. Please make sure all these shapes make sense to you before continuing."
      ]
    },
    {
      "cell_type": "markdown",
      "metadata": {
        "id": "_GQMSJTtT12p"
      },
      "source": [
        "#4.Building your model\n",
        "\n",
        "**Your goal** is to build an model capable of recognizing a sign with high accuracy. To do so, you are going to build a tensorflow model that is almost the same as one you have previously built for cat recognition and multi-class classification problems. If you already forget previous homeworks, please go back to review them to get some clues. \n",
        "\n",
        "**Previous related homeworks** \n",
        "\n",
        "\"Planar_data_tensorflow.ipynb\" in Homework 2\n",
        "\n",
        "\"deepNN_tensorflow.ipynb\" in Homework 3\n",
        "\n",
        "\"regularized_deepNN_tensorflow.ipynb\" in Homework 4\n",
        "\n",
        "\"batch-size-test-student-version.ipynb\" In Homework 5"
      ]
    },
    {
      "cell_type": "code",
      "source": [
        "### START CODE HERE ###\n",
        "model=tf.keras.Sequential([\n",
        "    #Input layer                      \n",
        "    tf.keras.layers.Input(shape=(12288)), # Set how many elements are there in every training image?\n",
        "\n",
        "    #Start adding hidden layers  \n",
        "    tf.keras.layers.Dense(30, activation='relu',\n",
        "                          kernel_initializer='glorot_uniform', bias_initializer='zeros'), # Please set your neuron numbers, activation function and so on. \n",
        "\n",
        "    tf.keras.layers.Dense(100, activation='relu',\n",
        "                          kernel_initializer='glorot_uniform', bias_initializer='zeros'),#please feel free to add more hidden layers here. \n",
        "     \n",
        "\n",
        "    # End adding hidden layers \n",
        "\n",
        "    #output layer                   \n",
        "    tf.keras.layers.Dense(6 , activation='softmax') # Set how many elements are there in every training output\n",
        "            \n",
        "])\n",
        "### END CODE HERE ###'\n",
        "model.summary()"
      ],
      "metadata": {
        "id": "izHspuwnBqe7",
        "colab": {
          "base_uri": "https://localhost:8080/"
        },
        "outputId": "0e459b0b-b9ae-4a17-fd52-091e4d2e294b"
      },
      "execution_count": null,
      "outputs": [
        {
          "output_type": "stream",
          "name": "stdout",
          "text": [
            "Model: \"sequential_1\"\n",
            "_________________________________________________________________\n",
            " Layer (type)                Output Shape              Param #   \n",
            "=================================================================\n",
            " dense_3 (Dense)             (None, 30)                368670    \n",
            "                                                                 \n",
            " dense_4 (Dense)             (None, 100)               3100      \n",
            "                                                                 \n",
            " dense_5 (Dense)             (None, 6)                 606       \n",
            "                                                                 \n",
            "=================================================================\n",
            "Total params: 372,376\n",
            "Trainable params: 372,376\n",
            "Non-trainable params: 0\n",
            "_________________________________________________________________\n"
          ]
        }
      ]
    },
    {
      "cell_type": "code",
      "source": [
        "### START CODE HERE ###'\n",
        "model.compile(optimizer= tf.keras.optimizers.Adam(learning_rate=.00078) ,  # Op, \n",
        "              loss= tf.keras.losses.BinaryCrossentropy(), #  loss. Please change 'None' to some meaningful loss\n",
        "              \n",
        "              metrics=['accuracy'], # List of metrics to monitor\n",
        "                 )\n",
        "### END CODE HERE ###'"
      ],
      "metadata": {
        "id": "B5pEQR4mClT2"
      },
      "execution_count": null,
      "outputs": []
    },
    {
      "cell_type": "code",
      "source": [
        "### START CODE HERE ###'\n",
        "history = model.fit(\n",
        "    X_train, #  training input data\n",
        "    Y_train, # training output data\n",
        "    batch_size=80, # how many samples (points) do you want to use to update weights once? \n",
        "    epochs=100# how many iterations do you want to train your model? Your data will be reused to train the model for the number of epochs. I trained 5 min for this model\n",
        ")\n",
        "### END CODE HERE ###'"
      ],
      "metadata": {
        "id": "_DHEsR3TCmiv",
        "colab": {
          "base_uri": "https://localhost:8080/"
        },
        "outputId": "b8e6afd2-5314-440d-f8a8-f718bc1f359b"
      },
      "execution_count": null,
      "outputs": [
        {
          "output_type": "stream",
          "name": "stdout",
          "text": [
            "Epoch 1/100\n",
            "14/14 [==============================] - 0s 5ms/step - loss: 0.0397 - accuracy: 0.9593\n",
            "Epoch 2/100\n",
            "14/14 [==============================] - 0s 5ms/step - loss: 0.0178 - accuracy: 0.9861\n",
            "Epoch 3/100\n",
            "14/14 [==============================] - 0s 5ms/step - loss: 0.0391 - accuracy: 0.9611\n",
            "Epoch 4/100\n",
            "14/14 [==============================] - 0s 5ms/step - loss: 0.0163 - accuracy: 0.9926\n",
            "Epoch 5/100\n",
            "14/14 [==============================] - 0s 5ms/step - loss: 0.0134 - accuracy: 0.9935\n",
            "Epoch 6/100\n",
            "14/14 [==============================] - 0s 5ms/step - loss: 0.0105 - accuracy: 0.9972\n",
            "Epoch 7/100\n",
            "14/14 [==============================] - 0s 5ms/step - loss: 0.0084 - accuracy: 0.9991\n",
            "Epoch 8/100\n",
            "14/14 [==============================] - 0s 5ms/step - loss: 0.0080 - accuracy: 0.9981\n",
            "Epoch 9/100\n",
            "14/14 [==============================] - 0s 5ms/step - loss: 0.0090 - accuracy: 0.9972\n",
            "Epoch 10/100\n",
            "14/14 [==============================] - 0s 5ms/step - loss: 0.0083 - accuracy: 0.9991\n",
            "Epoch 11/100\n",
            "14/14 [==============================] - 0s 5ms/step - loss: 0.0107 - accuracy: 0.9972\n",
            "Epoch 12/100\n",
            "14/14 [==============================] - 0s 5ms/step - loss: 0.0132 - accuracy: 0.9926\n",
            "Epoch 13/100\n",
            "14/14 [==============================] - 0s 5ms/step - loss: 0.0084 - accuracy: 0.9981\n",
            "Epoch 14/100\n",
            "14/14 [==============================] - 0s 5ms/step - loss: 0.0073 - accuracy: 0.9991\n",
            "Epoch 15/100\n",
            "14/14 [==============================] - 0s 5ms/step - loss: 0.0070 - accuracy: 0.9981\n",
            "Epoch 16/100\n",
            "14/14 [==============================] - 0s 5ms/step - loss: 0.0076 - accuracy: 0.9991\n",
            "Epoch 17/100\n",
            "14/14 [==============================] - 0s 5ms/step - loss: 0.0095 - accuracy: 0.9981\n",
            "Epoch 18/100\n",
            "14/14 [==============================] - 0s 5ms/step - loss: 0.0085 - accuracy: 0.9991\n",
            "Epoch 19/100\n",
            "14/14 [==============================] - 0s 5ms/step - loss: 0.0090 - accuracy: 0.9963\n",
            "Epoch 20/100\n",
            "14/14 [==============================] - 0s 5ms/step - loss: 0.0069 - accuracy: 1.0000\n",
            "Epoch 21/100\n",
            "14/14 [==============================] - 0s 5ms/step - loss: 0.0065 - accuracy: 1.0000\n",
            "Epoch 22/100\n",
            "14/14 [==============================] - 0s 5ms/step - loss: 0.0074 - accuracy: 1.0000\n",
            "Epoch 23/100\n",
            "14/14 [==============================] - 0s 5ms/step - loss: 0.0070 - accuracy: 1.0000\n",
            "Epoch 24/100\n",
            "14/14 [==============================] - 0s 5ms/step - loss: 0.0102 - accuracy: 0.9963\n",
            "Epoch 25/100\n",
            "14/14 [==============================] - 0s 5ms/step - loss: 0.0134 - accuracy: 0.9935\n",
            "Epoch 26/100\n",
            "14/14 [==============================] - 0s 5ms/step - loss: 0.0076 - accuracy: 0.9981\n",
            "Epoch 27/100\n",
            "14/14 [==============================] - 0s 5ms/step - loss: 0.0060 - accuracy: 0.9991\n",
            "Epoch 28/100\n",
            "14/14 [==============================] - 0s 5ms/step - loss: 0.0059 - accuracy: 1.0000\n",
            "Epoch 29/100\n",
            "14/14 [==============================] - 0s 5ms/step - loss: 0.0066 - accuracy: 1.0000\n",
            "Epoch 30/100\n",
            "14/14 [==============================] - 0s 5ms/step - loss: 0.0060 - accuracy: 1.0000\n",
            "Epoch 31/100\n",
            "14/14 [==============================] - 0s 5ms/step - loss: 0.0063 - accuracy: 1.0000\n",
            "Epoch 32/100\n",
            "14/14 [==============================] - 0s 5ms/step - loss: 0.0060 - accuracy: 1.0000\n",
            "Epoch 33/100\n",
            "14/14 [==============================] - 0s 5ms/step - loss: 0.0063 - accuracy: 0.9981\n",
            "Epoch 34/100\n",
            "14/14 [==============================] - 0s 5ms/step - loss: 0.0064 - accuracy: 0.9991\n",
            "Epoch 35/100\n",
            "14/14 [==============================] - 0s 5ms/step - loss: 0.0061 - accuracy: 1.0000\n",
            "Epoch 36/100\n",
            "14/14 [==============================] - 0s 5ms/step - loss: 0.0064 - accuracy: 1.0000\n",
            "Epoch 37/100\n",
            "14/14 [==============================] - 0s 5ms/step - loss: 0.0105 - accuracy: 0.9972\n",
            "Epoch 38/100\n",
            "14/14 [==============================] - 0s 5ms/step - loss: 0.0154 - accuracy: 0.9907\n",
            "Epoch 39/100\n",
            "14/14 [==============================] - 0s 5ms/step - loss: 0.0079 - accuracy: 0.9981\n",
            "Epoch 40/100\n",
            "14/14 [==============================] - 0s 5ms/step - loss: 0.0065 - accuracy: 1.0000\n",
            "Epoch 41/100\n",
            "14/14 [==============================] - 0s 5ms/step - loss: 0.0063 - accuracy: 1.0000\n",
            "Epoch 42/100\n",
            "14/14 [==============================] - 0s 5ms/step - loss: 0.0088 - accuracy: 1.0000\n",
            "Epoch 43/100\n",
            "14/14 [==============================] - 0s 5ms/step - loss: 0.0090 - accuracy: 0.9972\n",
            "Epoch 44/100\n",
            "14/14 [==============================] - 0s 5ms/step - loss: 0.0069 - accuracy: 0.9991\n",
            "Epoch 45/100\n",
            "14/14 [==============================] - 0s 5ms/step - loss: 0.0057 - accuracy: 1.0000\n",
            "Epoch 46/100\n",
            "14/14 [==============================] - 0s 5ms/step - loss: 0.0085 - accuracy: 0.9972\n",
            "Epoch 47/100\n",
            "14/14 [==============================] - 0s 5ms/step - loss: 0.0077 - accuracy: 0.9991\n",
            "Epoch 48/100\n",
            "14/14 [==============================] - 0s 5ms/step - loss: 0.0058 - accuracy: 0.9991\n",
            "Epoch 49/100\n",
            "14/14 [==============================] - 0s 5ms/step - loss: 0.0044 - accuracy: 1.0000\n",
            "Epoch 50/100\n",
            "14/14 [==============================] - 0s 5ms/step - loss: 0.0071 - accuracy: 0.9991\n",
            "Epoch 51/100\n",
            "14/14 [==============================] - 0s 5ms/step - loss: 0.0205 - accuracy: 0.9870\n",
            "Epoch 52/100\n",
            "14/14 [==============================] - 0s 6ms/step - loss: 0.0174 - accuracy: 0.9898\n",
            "Epoch 53/100\n",
            "14/14 [==============================] - 0s 5ms/step - loss: 0.0150 - accuracy: 0.9917\n",
            "Epoch 54/100\n",
            "14/14 [==============================] - 0s 6ms/step - loss: 0.0101 - accuracy: 0.9935\n",
            "Epoch 55/100\n",
            "14/14 [==============================] - 0s 5ms/step - loss: 0.0060 - accuracy: 1.0000\n",
            "Epoch 56/100\n",
            "14/14 [==============================] - 0s 5ms/step - loss: 0.0155 - accuracy: 0.9898\n",
            "Epoch 57/100\n",
            "14/14 [==============================] - 0s 5ms/step - loss: 0.0313 - accuracy: 0.9694\n",
            "Epoch 58/100\n",
            "14/14 [==============================] - 0s 6ms/step - loss: 0.0114 - accuracy: 0.9954\n",
            "Epoch 59/100\n",
            "14/14 [==============================] - 0s 5ms/step - loss: 0.0055 - accuracy: 0.9991\n",
            "Epoch 60/100\n",
            "14/14 [==============================] - 0s 5ms/step - loss: 0.0044 - accuracy: 1.0000\n",
            "Epoch 61/100\n",
            "14/14 [==============================] - 0s 5ms/step - loss: 0.0038 - accuracy: 1.0000\n",
            "Epoch 62/100\n",
            "14/14 [==============================] - 0s 5ms/step - loss: 0.0038 - accuracy: 1.0000\n",
            "Epoch 63/100\n",
            "14/14 [==============================] - 0s 5ms/step - loss: 0.0045 - accuracy: 1.0000\n",
            "Epoch 64/100\n",
            "14/14 [==============================] - 0s 5ms/step - loss: 0.0038 - accuracy: 1.0000\n",
            "Epoch 65/100\n",
            "14/14 [==============================] - 0s 5ms/step - loss: 0.0041 - accuracy: 1.0000\n",
            "Epoch 66/100\n",
            "14/14 [==============================] - 0s 5ms/step - loss: 0.0039 - accuracy: 1.0000\n",
            "Epoch 67/100\n",
            "14/14 [==============================] - 0s 5ms/step - loss: 0.0040 - accuracy: 1.0000\n",
            "Epoch 68/100\n",
            "14/14 [==============================] - 0s 5ms/step - loss: 0.0040 - accuracy: 1.0000\n",
            "Epoch 69/100\n",
            "14/14 [==============================] - 0s 5ms/step - loss: 0.0034 - accuracy: 1.0000\n",
            "Epoch 70/100\n",
            "14/14 [==============================] - 0s 5ms/step - loss: 0.0032 - accuracy: 1.0000\n",
            "Epoch 71/100\n",
            "14/14 [==============================] - 0s 5ms/step - loss: 0.0037 - accuracy: 1.0000\n",
            "Epoch 72/100\n",
            "14/14 [==============================] - 0s 5ms/step - loss: 0.0028 - accuracy: 1.0000\n",
            "Epoch 73/100\n",
            "14/14 [==============================] - 0s 5ms/step - loss: 0.0027 - accuracy: 1.0000\n",
            "Epoch 74/100\n",
            "14/14 [==============================] - 0s 5ms/step - loss: 0.0029 - accuracy: 1.0000\n",
            "Epoch 75/100\n",
            "14/14 [==============================] - 0s 5ms/step - loss: 0.0026 - accuracy: 1.0000\n",
            "Epoch 76/100\n",
            "14/14 [==============================] - 0s 5ms/step - loss: 0.0032 - accuracy: 1.0000\n",
            "Epoch 77/100\n",
            "14/14 [==============================] - 0s 5ms/step - loss: 0.0054 - accuracy: 1.0000\n",
            "Epoch 78/100\n",
            "14/14 [==============================] - 0s 6ms/step - loss: 0.0062 - accuracy: 1.0000\n",
            "Epoch 79/100\n",
            "14/14 [==============================] - 0s 5ms/step - loss: 0.0044 - accuracy: 1.0000\n",
            "Epoch 80/100\n",
            "14/14 [==============================] - 0s 5ms/step - loss: 0.0031 - accuracy: 1.0000\n",
            "Epoch 81/100\n",
            "14/14 [==============================] - 0s 5ms/step - loss: 0.0030 - accuracy: 1.0000\n",
            "Epoch 82/100\n",
            "14/14 [==============================] - 0s 5ms/step - loss: 0.0026 - accuracy: 1.0000\n",
            "Epoch 83/100\n",
            "14/14 [==============================] - 0s 5ms/step - loss: 0.0026 - accuracy: 1.0000\n",
            "Epoch 84/100\n",
            "14/14 [==============================] - 0s 5ms/step - loss: 0.0023 - accuracy: 1.0000\n",
            "Epoch 85/100\n",
            "14/14 [==============================] - 0s 4ms/step - loss: 0.0025 - accuracy: 1.0000\n",
            "Epoch 86/100\n",
            "14/14 [==============================] - 0s 5ms/step - loss: 0.0026 - accuracy: 1.0000\n",
            "Epoch 87/100\n",
            "14/14 [==============================] - 0s 5ms/step - loss: 0.0025 - accuracy: 1.0000\n",
            "Epoch 88/100\n",
            "14/14 [==============================] - 0s 4ms/step - loss: 0.0026 - accuracy: 1.0000\n",
            "Epoch 89/100\n",
            "14/14 [==============================] - 0s 5ms/step - loss: 0.0022 - accuracy: 1.0000\n",
            "Epoch 90/100\n",
            "14/14 [==============================] - 0s 5ms/step - loss: 0.0024 - accuracy: 1.0000\n",
            "Epoch 91/100\n",
            "14/14 [==============================] - 0s 5ms/step - loss: 0.0020 - accuracy: 1.0000\n",
            "Epoch 92/100\n",
            "14/14 [==============================] - 0s 5ms/step - loss: 0.0025 - accuracy: 1.0000\n",
            "Epoch 93/100\n",
            "14/14 [==============================] - 0s 5ms/step - loss: 0.0025 - accuracy: 1.0000\n",
            "Epoch 94/100\n",
            "14/14 [==============================] - 0s 5ms/step - loss: 0.0025 - accuracy: 1.0000\n",
            "Epoch 95/100\n",
            "14/14 [==============================] - 0s 5ms/step - loss: 0.0023 - accuracy: 1.0000\n",
            "Epoch 96/100\n",
            "14/14 [==============================] - 0s 5ms/step - loss: 0.0022 - accuracy: 1.0000\n",
            "Epoch 97/100\n",
            "14/14 [==============================] - 0s 5ms/step - loss: 0.0022 - accuracy: 1.0000\n",
            "Epoch 98/100\n",
            "14/14 [==============================] - 0s 5ms/step - loss: 0.0021 - accuracy: 1.0000\n",
            "Epoch 99/100\n",
            "14/14 [==============================] - 0s 5ms/step - loss: 0.0019 - accuracy: 1.0000\n",
            "Epoch 100/100\n",
            "14/14 [==============================] - 0s 5ms/step - loss: 0.0019 - accuracy: 1.0000\n"
          ]
        }
      ]
    },
    {
      "cell_type": "markdown",
      "source": [
        "\n",
        "**If the training works, congratulations! You have built a model for recognizing SIGN language.**"
      ],
      "metadata": {
        "id": "UzEKaMdOR1vp"
      }
    },
    {
      "cell_type": "code",
      "source": [
        "model.evaluate(X_test,Y_test)"
      ],
      "metadata": {
        "id": "46tcqf45C5aD",
        "colab": {
          "base_uri": "https://localhost:8080/"
        },
        "outputId": "a72dc1f9-d3c7-492c-f87f-21f0977754aa"
      },
      "execution_count": null,
      "outputs": [
        {
          "output_type": "stream",
          "name": "stdout",
          "text": [
            "4/4 [==============================] - 0s 4ms/step - loss: 0.1683 - accuracy: 0.8750\n"
          ]
        },
        {
          "output_type": "execute_result",
          "data": {
            "text/plain": [
              "[0.16829943656921387, 0.875]"
            ]
          },
          "metadata": {},
          "execution_count": 44
        }
      ]
    },
    {
      "cell_type": "markdown",
      "metadata": {
        "id": "ogOoTX2CT13E"
      },
      "source": [
        "# 5. Grading rule\n",
        "\n",
        "***Try your best to achieve high accuarcy.  The grade for this homework will based on your model final training accurracy and test accuracy. ***\n",
        "\n",
        "For example, if your final training accurracy is 87.8 (consider one decimal) and test accuracy is 70.9, the total grade is 8.78 + 7.09 =15.87. The full credit is 10+10 =20.  It is hard to get full credit in this homework, please try your best.  \n",
        "\n",
        "\n",
        "\n"
      ]
    },
    {
      "cell_type": "markdown",
      "source": [
        "**Tips**\n",
        "\n",
        "You can try to improve its accuracy by:\n",
        "1. tuning the hyperparameters (learning rate, batch size, epoches and so on)\n",
        "2. adjusting your layers numbers or nuron numbers.\n",
        "3. changing optimizer or loss function\n",
        "4. using dropout layer\n",
        "5. add regularizers.L2\n",
        "6. ....."
      ],
      "metadata": {
        "id": "VeliznoqOMm-"
      }
    },
    {
      "cell_type": "markdown",
      "source": [
        "Once again, here's a thumbs up for your work!"
      ],
      "metadata": {
        "id": "1L5moOeSM9v4"
      }
    },
    {
      "cell_type": "code",
      "execution_count": null,
      "metadata": {
        "id": "EJ8Aft1CT13F",
        "jupyter": {
          "outputs_hidden": true
        },
        "scrolled": true,
        "colab": {
          "base_uri": "https://localhost:8080/",
          "height": 286
        },
        "outputId": "a1e682d1-8653-4ea4-fce2-b7a851e5eac0"
      },
      "outputs": [
        {
          "output_type": "stream",
          "name": "stdout",
          "text": [
            "Populating the interactive namespace from numpy and matplotlib\n"
          ]
        },
        {
          "output_type": "display_data",
          "data": {
            "image/png": "[encoded data removed]",
            "text/plain": [
              "<Figure size 432x288 with 1 Axes>"
            ]
          },
          "metadata": {
            "needs_background": "light"
          }
        }
      ],
      "source": [
        "%pylab inline\n",
        "import matplotlib.image as mpimg\n",
        "img = mpimg.imread('images/thumbs_up.jpg')\n",
        "imgplot = plt.imshow(img)\n",
        "plt.show()"
      ]
    }
  ],
  "metadata": {
    "coursera": {
      "course_slug": "deep-neural-network",
      "graded_item_id": "BFd89",
      "launcher_item_id": "AH2rK"
    },
    "kernelspec": {
      "display_name": "Python 3",
      "language": "python",
      "name": "python3"
    },
    "language_info": {
      "codemirror_mode": {
        "name": "ipython",
        "version": 3
      },
      "file_extension": ".py",
      "mimetype": "text/x-python",
      "name": "python",
      "nbconvert_exporter": "python",
      "pygments_lexer": "ipython3",
      "version": "3.8.5"
    },
    "colab": {
      "name": "TensorFlow_SIGNs_classfication.ipynb",
      "provenance": [],
      "collapsed_sections": [],
      "include_colab_link": true
    },
    "accelerator": "GPU"
  },
  "nbformat": 4,
  "nbformat_minor": 0
}